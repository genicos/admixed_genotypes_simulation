{
 "cells": [
  {
   "cell_type": "code",
   "execution_count": 14,
   "id": "886afdf9-1c67-4eb5-9f5e-8aa0deb84816",
   "metadata": {},
   "outputs": [
    {
     "name": "stdout",
     "output_type": "stream",
     "text": [
      "Available memory: 57.68 GB\n",
      "_5000\n",
      "_6000\n",
      "_7000\n",
      "torch.Size([1000, 500, 100])\n",
      "torch.Size([1000])\n",
      "torch.Size([1000, 7])\n"
     ]
    }
   ],
   "source": [
    "from globals import *\n",
    "from processing import *\n",
    "from models import *\n",
    "from ast import literal_eval\n",
    "import sys\n",
    "\n",
    "torch.manual_seed(random_seed)\n",
    "idx = torch.randperm(num_files)\n",
    "ind = int(train_prop * num_files)\n",
    "idx = idx[ind:].tolist()\n",
    "\n",
    "\n",
    "GetMemory()\n",
    "Data = [convert_files(data_dir + \"/sampled_genotypes/sample_\" + str(i), data_dir + \"/commands/command_\" + str(i)) for i in idx] \n",
    "\n",
    "X = [xx for xx, _  in Data if xx is not None]\n",
    "y = [yy for xx, yy in Data if xx is not None]\n",
    "\n",
    "C = [convert_command_file1(data_dir + \"/commands/command_\" + str(i)) for j,i in enumerate(idx) if X[j] is not None]\n",
    "\n",
    "X = torch.tensor(X) - 1 #(num usable files, num_chrom, num_samples)\n",
    "X = X.transpose(-2, -1) #(num usable files, num_samples, num_chrom)\n",
    "X = X[:, ::2,:]\n",
    "\n",
    "y = torch.tensor(y) * 100\n",
    "\n",
    "\n",
    "print(X.shape)\n",
    "print(y.shape)\n",
    "\n",
    "C = torch.tensor(C)\n",
    "print(C.shape)"
   ]
  },
  {
   "cell_type": "code",
   "execution_count": 17,
   "id": "412c0042-8e20-4d1a-961f-5e837ad74f5a",
   "metadata": {},
   "outputs": [],
   "source": [
    "device = \"cpu\"\n",
    "GPU_available = False\n",
    "\n",
    "model = TransformerModel1()\n",
    "model.load_state_dict(torch.load(\"model1.pth\", map_location=device))\n",
    "model = model.to(device)"
   ]
  },
  {
   "cell_type": "code",
   "execution_count": 20,
   "id": "dd5af44a-792d-4e52-ab45-bc6ced6019d4",
   "metadata": {},
   "outputs": [
    {
     "ename": "RuntimeError",
     "evalue": "Expected all tensors to be on the same device, but found at least two devices, cpu and cuda:0! (when checking argument for argument tensors in method wrapper_CUDA_cat)",
     "output_type": "error",
     "traceback": [
      "\u001b[0;31m---------------------------------------------------------------------------\u001b[0m",
      "\u001b[0;31mRuntimeError\u001b[0m                              Traceback (most recent call last)",
      "Cell \u001b[0;32mIn[20], line 8\u001b[0m\n\u001b[1;32m      6\u001b[0m \u001b[38;5;28;01mtry\u001b[39;00m:\n\u001b[1;32m      7\u001b[0m     X_batch \u001b[38;5;241m=\u001b[39m X[i:i\u001b[38;5;241m+\u001b[39mbatch_size]\n\u001b[0;32m----> 8\u001b[0m     y_pred[i:i\u001b[38;5;241m+\u001b[39mbatch_size] \u001b[38;5;241m=\u001b[39m \u001b[43mmodel\u001b[49m\u001b[43m(\u001b[49m\u001b[43mX_batch\u001b[49m\u001b[43m)\u001b[49m\n\u001b[1;32m      9\u001b[0m \u001b[38;5;28;01mexcept\u001b[39;00m \u001b[38;5;167;01mIndexError\u001b[39;00m:\n\u001b[1;32m     10\u001b[0m     X_batch \u001b[38;5;241m=\u001b[39m X[i:]\n",
      "File \u001b[0;32m~/miniconda3/lib/python3.9/site-packages/torch/nn/modules/module.py:1501\u001b[0m, in \u001b[0;36mModule._call_impl\u001b[0;34m(self, *args, **kwargs)\u001b[0m\n\u001b[1;32m   1496\u001b[0m \u001b[38;5;66;03m# If we don't have any hooks, we want to skip the rest of the logic in\u001b[39;00m\n\u001b[1;32m   1497\u001b[0m \u001b[38;5;66;03m# this function, and just call forward.\u001b[39;00m\n\u001b[1;32m   1498\u001b[0m \u001b[38;5;28;01mif\u001b[39;00m \u001b[38;5;129;01mnot\u001b[39;00m (\u001b[38;5;28mself\u001b[39m\u001b[38;5;241m.\u001b[39m_backward_hooks \u001b[38;5;129;01mor\u001b[39;00m \u001b[38;5;28mself\u001b[39m\u001b[38;5;241m.\u001b[39m_backward_pre_hooks \u001b[38;5;129;01mor\u001b[39;00m \u001b[38;5;28mself\u001b[39m\u001b[38;5;241m.\u001b[39m_forward_hooks \u001b[38;5;129;01mor\u001b[39;00m \u001b[38;5;28mself\u001b[39m\u001b[38;5;241m.\u001b[39m_forward_pre_hooks\n\u001b[1;32m   1499\u001b[0m         \u001b[38;5;129;01mor\u001b[39;00m _global_backward_pre_hooks \u001b[38;5;129;01mor\u001b[39;00m _global_backward_hooks\n\u001b[1;32m   1500\u001b[0m         \u001b[38;5;129;01mor\u001b[39;00m _global_forward_hooks \u001b[38;5;129;01mor\u001b[39;00m _global_forward_pre_hooks):\n\u001b[0;32m-> 1501\u001b[0m     \u001b[38;5;28;01mreturn\u001b[39;00m \u001b[43mforward_call\u001b[49m\u001b[43m(\u001b[49m\u001b[38;5;241;43m*\u001b[39;49m\u001b[43margs\u001b[49m\u001b[43m,\u001b[49m\u001b[43m \u001b[49m\u001b[38;5;241;43m*\u001b[39;49m\u001b[38;5;241;43m*\u001b[39;49m\u001b[43mkwargs\u001b[49m\u001b[43m)\u001b[49m\n\u001b[1;32m   1502\u001b[0m \u001b[38;5;66;03m# Do not call functions when jit is used\u001b[39;00m\n\u001b[1;32m   1503\u001b[0m full_backward_hooks, non_full_backward_hooks \u001b[38;5;241m=\u001b[39m [], []\n",
      "File \u001b[0;32m~/gene_flow/training1/models.py:146\u001b[0m, in \u001b[0;36mTransformerModel1.forward\u001b[0;34m(self, x)\u001b[0m\n\u001b[1;32m    144\u001b[0m site_pos \u001b[38;5;241m=\u001b[39m site_pos\u001b[38;5;241m.\u001b[39munsqueeze(\u001b[38;5;241m1\u001b[39m)\u001b[38;5;241m.\u001b[39munsqueeze(\u001b[38;5;241m0\u001b[39m)\n\u001b[1;32m    145\u001b[0m site_pos \u001b[38;5;241m=\u001b[39m site_pos\u001b[38;5;241m.\u001b[39mrepeat(x\u001b[38;5;241m.\u001b[39mshape[\u001b[38;5;241m0\u001b[39m],\u001b[38;5;241m1\u001b[39m,\u001b[38;5;241m1\u001b[39m)\n\u001b[0;32m--> 146\u001b[0m x \u001b[38;5;241m=\u001b[39m \u001b[43mtorch\u001b[49m\u001b[38;5;241;43m.\u001b[39;49m\u001b[43mcat\u001b[49m\u001b[43m(\u001b[49m\u001b[43m(\u001b[49m\u001b[43mx\u001b[49m\u001b[43m,\u001b[49m\u001b[43msite_pos\u001b[49m\u001b[43m)\u001b[49m\u001b[43m,\u001b[49m\u001b[38;5;241;43m2\u001b[39;49m\u001b[43m)\u001b[49m\n\u001b[1;32m    148\u001b[0m x \u001b[38;5;241m=\u001b[39m \u001b[38;5;28mself\u001b[39m\u001b[38;5;241m.\u001b[39mblocks(x) \u001b[38;5;66;03m#(batch, input_size, n_embd)\u001b[39;00m\n\u001b[1;32m    149\u001b[0m x \u001b[38;5;241m=\u001b[39m x\u001b[38;5;241m.\u001b[39mreshape(x\u001b[38;5;241m.\u001b[39mshape[\u001b[38;5;241m0\u001b[39m], input_size\u001b[38;5;241m*\u001b[39mn_embd) \u001b[38;5;66;03m#(batch, input_size*n_embd)\u001b[39;00m\n",
      "\u001b[0;31mRuntimeError\u001b[0m: Expected all tensors to be on the same device, but found at least two devices, cpu and cuda:0! (when checking argument for argument tensors in method wrapper_CUDA_cat)"
     ]
    }
   ],
   "source": [
    "model.eval()\n",
    "\n",
    "num_samples = X.shape[0]\n",
    "y_pred = torch.zeros(num_samples).to(device)\n",
    "for i in range(0, num_samples, batch_size):\n",
    "    try:\n",
    "        X_batch = X[i:i+batch_size].to(device)\n",
    "        y_pred[i:i+batch_size] = model(X_batch)\n",
    "    except IndexError:\n",
    "        X_batch = X[i:].to(device)\n",
    "        y_pred[i:] = model(X_batch)\n",
    "\n",
    "if GPU_available:\n",
    "    y_pred = y_pred.to(\"cuda\")                       \n",
    "\n",
    "loss = criterion(y_pred, y).item()\n",
    "avg_dist = (y_pred - y).abs().mean().item()\n",
    "\n",
    "print(f\"Loss : {loss:0.5f}, Avg dist: {avg_dist:0.4f}\")\n",
    "\n",
    "print()\n",
    "print(split, \"gene flow 1 and 2 evaluation\")\n",
    "print(\"gene flow 2 varies horizontally\")\n",
    "print()\n",
    "\n",
    "for i in range(10):\n",
    "    minim = 0.001 * i \n",
    "    maxum = 0.001 * i + 0.001\n",
    "\n",
    "    subset_0 = ((C[:,-2] >= minim) & (C[:,-2] < maxum))\n",
    "\n",
    "    for j in range(10):\n",
    "\n",
    "        minim = 0.001 * j\n",
    "        maxum = 0.001 * j + 0.001\n",
    "\n",
    "        subset_1 = ((C[:,-1] >= minim) & (C[:,-1] < maxum))\n",
    "\n",
    "        subset = (subset_0 & subset_1)\n",
    "\n",
    "        subset_count = subset.sum().item()\n",
    "        avg_dist_subset = (y_pred[subset] - y[subset]).abs().mean().item()\n",
    "\n",
    "        if subset_count == 0:\n",
    "            print(\"0\",end='')\n",
    "            continue\n",
    "\n",
    "        if avg_dist_subset > 0.2:\n",
    "            print(\".\",end='')\n",
    "        elif avg_dist_subset > 0.16:\n",
    "            print(\"-\",end='')\n",
    "        elif avg_dist_subset > 0.12:\n",
    "            print(\"+\",end='')\n",
    "        elif avg_dist_subset > 0.09:\n",
    "            print(\"$\",end='')\n",
    "        else:\n",
    "            print(\"#\",end='')\n",
    "    \n",
    "    print()\n",
    "\n",
    "\n",
    "print()"
   ]
  },
  {
   "cell_type": "code",
   "execution_count": 5,
   "id": "7ca50a75-7e5f-4dc4-9e1e-f6984d56a776",
   "metadata": {},
   "outputs": [
    {
     "data": {
      "text/plain": [
       "True"
      ]
     },
     "execution_count": 5,
     "metadata": {},
     "output_type": "execute_result"
    }
   ],
   "source": [
    "torch.cuda.is_available()"
   ]
  },
  {
   "cell_type": "code",
   "execution_count": null,
   "id": "c91e51df-a4a8-4a69-a3d9-39d25ecce5ca",
   "metadata": {},
   "outputs": [],
   "source": []
  }
 ],
 "metadata": {
  "kernelspec": {
   "display_name": "Python 3 (ipykernel)",
   "language": "python",
   "name": "python3"
  },
  "language_info": {
   "codemirror_mode": {
    "name": "ipython",
    "version": 3
   },
   "file_extension": ".py",
   "mimetype": "text/x-python",
   "name": "python",
   "nbconvert_exporter": "python",
   "pygments_lexer": "ipython3",
   "version": "3.9.12"
  }
 },
 "nbformat": 4,
 "nbformat_minor": 5
}
